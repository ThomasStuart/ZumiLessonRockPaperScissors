{
 "cells": [
  {
   "cell_type": "code",
   "execution_count": 2,
   "metadata": {},
   "outputs": [
    {
     "name": "stdout",
     "output_type": "stream",
     "text": [
      "Zumi won\n",
      "I won\n"
     ]
    }
   ],
   "source": [
    "WIN_Z = \"Zumi won\"\n",
    "WIN_I = \"I won\"\n",
    "\n",
    "\n",
    "def determineWinner( zumiHand, myHand ):\n",
    "    \n",
    "    if   myHand == \"rock\"     and zumiHand == \"scissors\":\n",
    "        return WIN_I\n",
    "    elif myHand == \"scissors\" and zumiHand == \"paper\":\n",
    "        return WIN_I\n",
    "    elif myHand == \"paper\"    and zumiHand == \"rock\":\n",
    "        return WIN_I\n",
    "    else:\n",
    "        return WIN_Z\n",
    "\n",
    "print( determineWinner(\"paper\", \"rock\")    ) # zumi wins\n",
    "print( determineWinner(\"scissors\", \"rock\") ) # I win "
   ]
  },
  {
   "cell_type": "code",
   "execution_count": 15,
   "metadata": {},
   "outputs": [
    {
     "name": "stdout",
     "output_type": "stream",
     "text": [
      "scissors\n",
      "scissors\n",
      "paper\n"
     ]
    }
   ],
   "source": [
    "# import random library \n",
    "from random import seed\n",
    "from random import randint\n",
    "\n",
    "# seed random number generator\n",
    "seed(99)  # [ 3, 5, 9, 10 , ...] # set seed \n",
    "\n",
    "R = \"rock\"\n",
    "P = \"paper\"\n",
    "S = \"scissors\"\n",
    "\n",
    "def generateRandomHand():\n",
    "    \n",
    "    num = randint(1,3) # get a random number between(x, y)\n",
    "\n",
    "    if   num < 1:\n",
    "        return R\n",
    "    elif num < 2:\n",
    "        return P\n",
    "    else:\n",
    "        return S\n",
    "    \n",
    "print( generateRandomHand() ) # \"rock\"\n",
    "print( generateRandomHand() ) # \"paper\"\n",
    "print( generateRandomHand() ) # \"paper\"\n"
   ]
  },
  {
   "cell_type": "code",
   "execution_count": 14,
   "metadata": {
    "scrolled": true
   },
   "outputs": [
    {
     "name": "stdout",
     "output_type": "stream",
     "text": [
      "Enter 1-rock, 2-paper, 3-scissor: 2\n",
      "paper\n",
      "Enter 1-rock, 2-paper, 3-scissor: 1\n",
      "rock\n"
     ]
    }
   ],
   "source": [
    "\n",
    "R = \"rock\"\n",
    "P = \"paper\"\n",
    "S = \"scissors\"\n",
    "\n",
    "def getHandFromUser():\n",
    "    userInputString = input(\"Enter 1-rock, 2-paper, 3-scissor: \")\n",
    "    num = int(userInputString)\n",
    "    \n",
    "    if   num ==  1:\n",
    "        return R\n",
    "    elif num == 2:\n",
    "        return P\n",
    "    else:\n",
    "        return S\n",
    "\n",
    "print( getHandFromUser() ) # rock\n",
    "print( getHandFromUser() ) # paper"
   ]
  },
  {
   "cell_type": "code",
   "execution_count": 32,
   "metadata": {},
   "outputs": [],
   "source": [
    "from zumi.util.screen import Screen\n",
    "\n",
    "import math\n",
    "import time\n",
    "\n",
    "screen = Screen()\n",
    "\n",
    "# time.sleep(.5) # pause for half second\n",
    "t = 0.5\n",
    "X = 300\n",
    "Y = 300\n",
    "def countDown():\n",
    "    \n",
    "    screen.print(\"Ready...\")\n",
    "    time.sleep(t)\n",
    "    screen.clear_drawing()\n",
    "    \n",
    "    screen.print(\"Rock\")\n",
    "    time.sleep(t)\n",
    "    screen.clear_drawing()\n",
    "    \n",
    "    \n",
    "    screen.print(\"paper\")\n",
    "    time.sleep(t)\n",
    "    screen.clear_drawing()\n",
    "    \n",
    "    \n",
    "    screen.print(\"Scissors !!! \")\n",
    "    time.sleep(t)\n",
    "    screen.clear_drawing()\n",
    "\n",
    "\n",
    "countDown()"
   ]
  },
  {
   "cell_type": "code",
   "execution_count": 35,
   "metadata": {},
   "outputs": [
    {
     "name": "stdout",
     "output_type": "stream",
     "text": [
      "Starting Zumi 1.41 test\n",
      "Pi Zero I2C is available\n",
      "Verified Pi Zero is the same\n",
      "Gyroscope previously calibrated\n",
      "Zumi board detected\n",
      "OLED Screen detected\n",
      "Gyroscope & Accelerometer detected\n",
      "input a seed22\n",
      "Enter 1-rock, 2-paper, 3-scissor: 2\n"
     ]
    }
   ],
   "source": [
    "import PIL.Image\n",
    "import IPython.display\n",
    "import time\n",
    "from zumi.zumi import Zumi\n",
    "from zumi.util.screen import Screen\n",
    "\n",
    "import math\n",
    "import time\n",
    "\n",
    "zumi = Zumi()\n",
    "screen = Screen()\n",
    "\n",
    "myHand   = \"\"\n",
    "zumiHand = \"\"\n",
    "winner   = \"\"\n",
    "\n",
    "\n",
    "# set the seed by having the user type a number in the keyboard \n",
    "seedString = input(\"input a seed\")\n",
    "seedNumber = int(seedString) # convert a string to a integer  \n",
    "seed(seedNumber)\n",
    "\n",
    "# count down ... rock , paper, scissors \n",
    "countDown() \n",
    "# choose my hand  via keyboard input\n",
    "myHand   = getHandFromUser()\n",
    "# get Zumi's hand via random number generator \n",
    "zumiHand = generateRandomHand()\n",
    "\n",
    "# display both hands on the screen\n",
    "screen.print(\"M: \", myHand, \" vs.  Z: \", zumiHand ) # OLD VERSIONS OF ZUMI USE DRAW TEXT\n",
    "time.sleep(2.0) \n",
    "screen.clear_drawing()\n",
    "\n",
    "# decide winner based on the hands \n",
    "screen.print(determineWinner(zumiHand, myHand))\n",
    "\n",
    "#TODO:: display happy face based if zumi won or not"
   ]
  },
  {
   "cell_type": "code",
   "execution_count": 26,
   "metadata": {},
   "outputs": [],
   "source": [
    "from zumi.util.screen import Screen\n",
    "screen = Screen()\n",
    "\n",
    "screen.clear_drawing()\n",
    "screen.print(\"sample text\")"
   ]
  },
  {
   "cell_type": "code",
   "execution_count": null,
   "metadata": {},
   "outputs": [],
   "source": []
  }
 ],
 "metadata": {
  "kernelspec": {
   "display_name": "Python 3",
   "language": "python",
   "name": "python3"
  },
  "language_info": {
   "codemirror_mode": {
    "name": "ipython",
    "version": 3
   },
   "file_extension": ".py",
   "mimetype": "text/x-python",
   "name": "python",
   "nbconvert_exporter": "python",
   "pygments_lexer": "ipython3",
   "version": "3.5.3"
  }
 },
 "nbformat": 4,
 "nbformat_minor": 2
}
